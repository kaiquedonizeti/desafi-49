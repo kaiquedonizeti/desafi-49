{
 "cells": [
  {
   "cell_type": "code",
   "execution_count": 2,
   "metadata": {},
   "outputs": [
    {
     "name": "stdout",
     "output_type": "stream",
     "text": [
      "Vezes em que a letra MOTO apareceu: 3\n"
     ]
    }
   ],
   "source": [
    "nome = \"texto01.txt\"\n",
    "letra = input(\"Escolha uma letra para buscar no texto: \")\n",
    "\n",
    "arq = open(nome, \"r\", encoding=\"utf-8\")\n",
    "\n",
    "conteudo = arq.read()\n",
    "conteudo = conteudo.lower()\n",
    "cont = conteudo.count(letra.lower())\n",
    "\n",
    "print(f\"Vezes em que a letra {letra.upper()} apareceu: {cont}\")\n",
    "\n",
    "arq.close()"
   ]
  }
 ],
 "metadata": {
  "kernelspec": {
   "display_name": "Python 3",
   "language": "python",
   "name": "python3"
  },
  "language_info": {
   "codemirror_mode": {
    "name": "ipython",
    "version": 3
   },
   "file_extension": ".py",
   "mimetype": "text/x-python",
   "name": "python",
   "nbconvert_exporter": "python",
   "pygments_lexer": "ipython3",
   "version": "3.11.5"
  }
 },
 "nbformat": 4,
 "nbformat_minor": 2
}
